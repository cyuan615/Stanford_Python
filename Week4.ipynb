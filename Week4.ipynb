{
 "cells": [
  {
   "cell_type": "code",
   "execution_count": 2,
   "metadata": {
    "collapsed": true
   },
   "outputs": [],
   "source": [
    "while False:\n",
    "    print('if while True, this will go on forever!')"
   ]
  },
  {
   "cell_type": "markdown",
   "metadata": {},
   "source": [
    "**Continue, break and pass**"
   ]
  },
  {
   "cell_type": "code",
   "execution_count": 4,
   "metadata": {},
   "outputs": [
    {
     "name": "stdout",
     "output_type": "stream",
     "text": [
      "even:  2\nodd:  3\neven:  4\nodd:  5\neven:  6\nodd:  7\neven:  8\nodd:  9\n"
     ]
    }
   ],
   "source": [
    "for num in range(2,10):\n",
    "    if num % 2 == 0:\n",
    "        print('even: ', num)\n",
    "        continue # go to the next iteration of the loop\n",
    "    print('odd: ', num)"
   ]
  },
  {
   "cell_type": "code",
   "execution_count": 14,
   "metadata": {},
   "outputs": [
    {
     "name": "stdout",
     "output_type": "stream",
     "text": [
      "2  is a prime number\n3  is a prime number\n4 equals 2 * 2.0\n5  is a prime number\n6 equals 2 * 3.0\n7  is a prime number\n8 equals 2 * 4.0\n9 equals 3 * 3.0\n"
     ]
    }
   ],
   "source": [
    "max = 10\n",
    "for n in range(2,max):\n",
    "    is_prime = True\n",
    "    for x in range(2,n):\n",
    "        if n % x == 0:\n",
    "            print(n, 'equals',x,'*',n/x)\n",
    "            is_prime = False\n",
    "            break # break will stop iterate in the internal loop\n",
    "    if is_prime:\n",
    "        print(n, ' is a prime number')"
   ]
  },
  {
   "cell_type": "code",
   "execution_count": 19,
   "metadata": {},
   "outputs": [],
   "source": [
    "traffic_light = 'green'\n",
    "\n",
    "if traffic_light == 'green':\n",
    "    pass # do nothing\n",
    "else:\n",
    "    print('whereever you go, stop the car')\n",
    "    "
   ]
  },
  {
   "cell_type": "markdown",
   "metadata": {},
   "source": [
    "**Function**"
   ]
  },
  {
   "cell_type": "code",
   "execution_count": 26,
   "metadata": {},
   "outputs": [
    {
     "name": "stdout",
     "output_type": "stream",
     "text": [
      "hello, Cindy\nNone\n"
     ]
    }
   ],
   "source": [
    "def Printhello(name):\n",
    "    print('hello, ' + name)\n",
    "a = Printhello('Cindy')\n",
    "print(a)"
   ]
  },
  {
   "cell_type": "code",
   "execution_count": 25,
   "metadata": {},
   "outputs": [
    {
     "name": "stdout",
     "output_type": "stream",
     "text": [
      "hello, Cindy\nhello, Cindy\n"
     ]
    }
   ],
   "source": [
    "def Printhello(name):\n",
    "    print('hello, ' + name)\n",
    "    return 'hello, '+name\n",
    "a = Printhello('Cindy')\n",
    "print(a)"
   ]
  },
  {
   "cell_type": "markdown",
   "metadata": {},
   "source": [
    "Function: Return a value"
   ]
  },
  {
   "cell_type": "code",
   "execution_count": 28,
   "metadata": {},
   "outputs": [
    {
     "name": "stdout",
     "output_type": "stream",
     "text": [
      "5050\n"
     ]
    }
   ],
   "source": [
    "def sum(a,b):\n",
    "    total = 0\n",
    "    for n in range(a,b+1):\n",
    "        total += n\n",
    "    return total\n",
    "print(sum(0,100))\n"
   ]
  },
  {
   "cell_type": "markdown",
   "metadata": {},
   "source": [
    "Function: Return multiple values"
   ]
  },
  {
   "cell_type": "code",
   "execution_count": 37,
   "metadata": {},
   "outputs": [
    {
     "name": "stdout",
     "output_type": "stream",
     "text": [
      "(1, 1)\n55\n55 3628800\n"
     ]
    }
   ],
   "source": [
    "def sum_prodcuct(a,b):\n",
    "    total = 0\n",
    "    product = 1\n",
    "    for n in range(a,b+1):\n",
    "        total += n\n",
    "        product *= n\n",
    "    return total,product\n",
    "print(sum_prodcuct(1,1))\n",
    "\n",
    "a = sum_prodcuct(1,10)\n",
    "print(a[0])\n",
    "\n",
    "a,b = sum_prodcuct(1,10)\n",
    "print(a,b)"
   ]
  },
  {
   "cell_type": "markdown",
   "metadata": {},
   "source": [
    "Global Keyword"
   ]
  },
  {
   "cell_type": "code",
   "execution_count": 36,
   "metadata": {},
   "outputs": [
    {
     "name": "stdout",
     "output_type": "stream",
     "text": [
      "1\n"
     ]
    }
   ],
   "source": [
    "x = 0\n",
    "def incrx():\n",
    "    x += 1 # doesn't work since didn't take x as arguement\n",
    "def incrx2():\n",
    "    global x\n",
    "    x += 1\n",
    "    return x\n",
    "\n",
    "print(incrx2())\n"
   ]
  },
  {
   "cell_type": "markdown",
   "metadata": {},
   "source": [
    "Default Argument"
   ]
  },
  {
   "cell_type": "code",
   "execution_count": 39,
   "metadata": {},
   "outputs": [
    {
     "name": "stdout",
     "output_type": "stream",
     "text": [
      "func(1) =  2\nfunc(1，2) =  3\n"
     ]
    }
   ],
   "source": [
    "def func(x,a = 1): # a has a default value 1\n",
    "    return x + a\n",
    "print('func(1) = ', func(1))\n",
    "print('func(1，2) = ', func(1,2)) # change value for a from 1 to 2"
   ]
  },
  {
   "cell_type": "code",
   "execution_count": 43,
   "metadata": {},
   "outputs": [
    {
     "name": "stdout",
     "output_type": "stream",
     "text": [
      "hello\n"
     ]
    }
   ],
   "source": [
    "print('hello', end = '\\n') # start a new line"
   ]
  },
  {
   "cell_type": "code",
   "execution_count": 44,
   "metadata": {},
   "outputs": [
    {
     "name": "stdout",
     "output_type": "stream",
     "text": [
      "Help on built-in function print in module builtins:\n\nprint(...)\n    print(value, ..., sep=' ', end='\\n', file=sys.stdout, flush=False)\n    \n    Prints the values to a stream, or to sys.stdout by default.\n    Optional keyword arguments:\n    file:  a file-like object (stream); defaults to the current sys.stdout.\n    sep:   string inserted between values, default a space.\n    end:   string appended after the last value, default a newline.\n    flush: whether to forcibly flush the stream.\n\n"
     ]
    }
   ],
   "source": [
    "help(print)"
   ]
  },
  {
   "cell_type": "markdown",
   "metadata": {},
   "source": [
    "Docstring"
   ]
  },
  {
   "cell_type": "code",
   "execution_count": 45,
   "metadata": {},
   "outputs": [],
   "source": [
    "def nothing():\n",
    "    '''This function serves for...'''\n",
    "    pass"
   ]
  },
  {
   "cell_type": "markdown",
   "metadata": {},
   "source": [
    "Lumbda functions"
   ]
  },
  {
   "cell_type": "code",
   "execution_count": 47,
   "metadata": {},
   "outputs": [
    {
     "name": "stdout",
     "output_type": "stream",
     "text": [
      "cube(3) =  27\n"
     ]
    }
   ],
   "source": [
    "cube = lambda x: x*x*x\n",
    "print('cube(3) = ',cube(3))"
   ]
  },
  {
   "cell_type": "code",
   "execution_count": 1,
   "metadata": {},
   "outputs": [
    {
     "ename": "SyntaxError",
     "evalue": "non-default argument follows default argument (<ipython-input-1-aebdc9036ffc>, line 3)",
     "traceback": [
      "\u001b[0;36m  File \u001b[0;32m\"<ipython-input-1-aebdc9036ffc>\"\u001b[0;36m, line \u001b[0;32m3\u001b[0m\n\u001b[0;31m    def add(b=2,a):\u001b[0m\n\u001b[0m           ^\u001b[0m\n\u001b[0;31mSyntaxError\u001b[0m\u001b[0;31m:\u001b[0m non-default argument follows default argument\n"
     ],
     "output_type": "error"
    }
   ],
   "source": [
    "def add(a):\n",
    "    return a+a\n",
    "def add(b=2,a):\n",
    "    b = 4\n",
    "    return b+b+a\n",
    "print(add(3))"
   ]
  },
  {
   "cell_type": "code",
   "execution_count": null,
   "metadata": {},
   "outputs": [],
   "source": []
  }
 ],
 "metadata": {
  "kernelspec": {
   "display_name": "Python 2",
   "language": "python",
   "name": "python2"
  },
  "language_info": {
   "codemirror_mode": {
    "name": "ipython",
    "version": 2
   },
   "file_extension": ".py",
   "mimetype": "text/x-python",
   "name": "python",
   "nbconvert_exporter": "python",
   "pygments_lexer": "ipython2",
   "version": "2.7.6"
  }
 },
 "nbformat": 4,
 "nbformat_minor": 0
}
