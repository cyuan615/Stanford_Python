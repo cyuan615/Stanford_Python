{
 "cells": [
  {
   "cell_type": "code",
   "execution_count": 1,
   "metadata": {
    "collapsed": true
   },
   "outputs": [
    {
     "name": "stdout",
     "output_type": "stream",
     "text": [
      "I am a simple file.\nThere are not much to see.\nHow about the third line?\nHow are you?\nI am fine, and you?\n\n"
     ]
    }
   ],
   "source": [
    "# Opening a file\n",
    "\n",
    "# using 'with open (filename,optional) as f could close file automatically\n",
    "# why rtf format??\n",
    "with open('/Users/yuanxinyi/Desktop/Stanford_Python/text.txt','r') as f:\n",
    "    print(f.read())"
   ]
  },
  {
   "cell_type": "code",
   "execution_count": 35,
   "metadata": {},
   "outputs": [
    {
     "data": {
      "text/plain": [
       "True"
      ]
     },
     "execution_count": 35,
     "metadata": {},
     "output_type": "execute_result"
    }
   ],
   "source": [
    "f = open('/Users/yuanxinyi/Desktop/Stanford_Python/text.txt','r')\n",
    "f.close()\n",
    "f.closed"
   ]
  },
  {
   "cell_type": "code",
   "execution_count": 2,
   "metadata": {},
   "outputs": [
    {
     "data": {
      "text/plain": [
       "False"
      ]
     },
     "execution_count": 2,
     "metadata": {},
     "output_type": "execute_result"
    }
   ],
   "source": [
    "f = open('/Users/yuanxinyi/Desktop/Stanford_Python/text.txt','r')\n",
    "f.closed"
   ]
  },
  {
   "cell_type": "code",
   "execution_count": 36,
   "metadata": {},
   "outputs": [
    {
     "name": "stdout",
     "output_type": "stream",
     "text": [
      "I am a simple file.\n\n['There are not much to see.\\n', 'How about the third line?\\n', 'How are you?\\n', 'I am fine, and you?\\n']\n"
     ]
    }
   ],
   "source": [
    "# Reading a file:\n",
    "# read whole file:\n",
    "with open('/Users/yuanxinyi/Desktop/Stanford_Python/text.txt','r') as f:\n",
    "    print(f.readline())\n",
    "    print(f.readlines())"
   ]
  },
  {
   "cell_type": "code",
   "execution_count": 37,
   "metadata": {},
   "outputs": [
    {
     "name": "stdout",
     "output_type": "stream",
     "text": [
      "line 0 : I am a simple file.\nline 1 : There are not much to see.\nline 2 : How about the third line?\nline 3 : How are you?\nline 4 : I am fine, and you?\n"
     ]
    }
   ],
   "source": [
    "# iterate in file\n",
    "with open('/Users/yuanxinyi/Desktop/Stanford_Python/text.txt','r') as f:\n",
    "    for i, line in enumerate(f):\n",
    "        print('line',i,\":\",line,end = '')"
   ]
  },
  {
   "cell_type": "code",
   "execution_count": 4,
   "metadata": {},
   "outputs": [
    {
     "name": "stdout",
     "output_type": "stream",
     "text": [
      "I am a simple file.\nThere are not much to see.\nHow about the third line?\nHow are you?\nI am fine, and you?\n"
     ]
    }
   ],
   "source": [
    "with open('/Users/yuanxinyi/Desktop/Stanford_Python/text.txt','r') as f:\n",
    "    for line in f:\n",
    "        print(line,end='') # without end='', a new line character\n",
    "        "
   ]
  },
  {
   "cell_type": "code",
   "execution_count": 9,
   "metadata": {},
   "outputs": [],
   "source": [
    "# Write a file -- create a new text file in folder\n",
    "name = 'Python learner'\n",
    "with open('/Users/yuanxinyi/Desktop/Stanford_Python/hello.txt','w') as f:\n",
    "    f.write(\"Hello,{}!\\n\".format(name))"
   ]
  },
  {
   "cell_type": "code",
   "execution_count": 16,
   "metadata": {},
   "outputs": [],
   "source": [
    "xs = ['i','am','a','fancy','list',42]\n",
    "with open('/Users/yuanxinyi/Desktop/Stanford_Python/append.txt','w') as f:\n",
    "    for x in xs:\n",
    "        f.write('{},'.format(x)) # {}之后的字符如果是逗号，被逗号隔开"
   ]
  },
  {
   "cell_type": "code",
   "execution_count": 17,
   "metadata": {},
   "outputs": [],
   "source": [
    "d = {'name':'peter pan','job':'lost boy','location':'Neverland'}\n",
    "with open('/Users/yuanxinyi/Desktop/Stanford_Python/append.txt','a') as f:\n",
    "    for k,v in d.items():\n",
    "        f.write('{}:{}n\\ '.format(k,v))"
   ]
  },
  {
   "cell_type": "code",
   "execution_count": null,
   "metadata": {},
   "outputs": [],
   "source": [
    "# append to a file \n",
    "d = {'name':'peter pan','job':'lost boy','location':'Neverland'}\n",
    "with open('/Users/yuanxinyi/Desktop/Stanford_Python/append.txt','a') as f:\n",
    "    for k,v in d.items():\n",
    "        f.write('{}:{}n\\ '.format(k,v))"
   ]
  },
  {
   "cell_type": "code",
   "execution_count": 27,
   "metadata": {},
   "outputs": [],
   "source": [
    "import json # json is a industry standard format"
   ]
  },
  {
   "cell_type": "code",
   "execution_count": 29,
   "metadata": {},
   "outputs": [
    {
     "data": {
      "text/plain": [
       "'{\"name\": \"peter pan\", \"job\": \"lost boy\", \"location\": \"Neverland\"}'"
      ]
     },
     "execution_count": 29,
     "metadata": {},
     "output_type": "execute_result"
    }
   ],
   "source": [
    "json.dumps([1,'simple','list']) # covert to string\n",
    "json.dumps(d)"
   ]
  },
  {
   "cell_type": "code",
   "execution_count": 34,
   "metadata": {},
   "outputs": [],
   "source": [
    "with open('/Users/yuanxinyi/Desktop/Stanford_Python/pan.text','w') as f:\n",
    "    json.dump(d,f) \n",
    "# take python object and dump it to a file in json representation"
   ]
  },
  {
   "cell_type": "code",
   "execution_count": 35,
   "metadata": {},
   "outputs": [],
   "source": [
    "with open('/Users/yuanxinyi/Desktop/Stanford_Python/pan.text','r') as f:\n",
    "    pan = json.load(f)\n",
    "# load a object from disk to python object a one line of code\n",
    "    "
   ]
  },
  {
   "cell_type": "code",
   "execution_count": 38,
   "metadata": {},
   "outputs": [
    {
     "data": {
      "text/plain": [
       "dict"
      ]
     },
     "execution_count": 38,
     "metadata": {},
     "output_type": "execute_result"
    }
   ],
   "source": [
    "type(pan)\n"
   ]
  },
  {
   "cell_type": "code",
   "execution_count": 41,
   "metadata": {},
   "outputs": [
    {
     "name": "stdout",
     "output_type": "stream",
     "text": [
      "4459878480\n4459878480\n"
     ]
    }
   ],
   "source": [
    "###################### \n",
    "# Python Object Model\n",
    "######################\n",
    "x = 1\n",
    "x = x + 1\n",
    "print(id(x))\n",
    "print(id(2))\n",
    "# id function returns an integer representation of the object's location\n",
    "# in memory\n",
    "\n"
   ]
  },
  {
   "cell_type": "code",
   "execution_count": null,
   "metadata": {},
   "outputs": [],
   "source": []
  }
 ],
 "metadata": {
  "kernelspec": {
   "display_name": "Python 2",
   "language": "python",
   "name": "python2"
  },
  "language_info": {
   "codemirror_mode": {
    "name": "ipython",
    "version": 2
   },
   "file_extension": ".py",
   "mimetype": "text/x-python",
   "name": "python",
   "nbconvert_exporter": "python",
   "pygments_lexer": "ipython2",
   "version": "2.7.6"
  }
 },
 "nbformat": 4,
 "nbformat_minor": 0
}
