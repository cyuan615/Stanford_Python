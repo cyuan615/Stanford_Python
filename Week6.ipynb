{
 "cells": [
  {
   "cell_type": "code",
   "execution_count": 1,
   "metadata": {
    "collapsed": true
   },
   "outputs": [
    {
     "name": "stdout",
     "output_type": "stream",
     "text": [
      "I am a simple file.\nThere are not much to see.\nHow about the third line?\nHow are you?\nI am fine, and you?\n\n"
     ]
    }
   ],
   "source": [
    "# Opening a file\n",
    "\n",
    "# using 'with open (filename,optional) as f could close file automatically\n",
    "# why rtf format??\n",
    "with open('/Users/yuanxinyi/Desktop/Stanford_Python/text.txt','r') as f:\n",
    "    print(f.read())"
   ]
  },
  {
   "cell_type": "code",
   "execution_count": 35,
   "metadata": {},
   "outputs": [
    {
     "data": {
      "text/plain": [
       "True"
      ]
     },
     "execution_count": 35,
     "metadata": {},
     "output_type": "execute_result"
    }
   ],
   "source": [
    "f = open('/Users/yuanxinyi/Desktop/Stanford_Python/text.txt','r')\n",
    "f.close()\n",
    "f.closed"
   ]
  },
  {
   "cell_type": "code",
   "execution_count": 2,
   "metadata": {},
   "outputs": [
    {
     "data": {
      "text/plain": [
       "False"
      ]
     },
     "execution_count": 2,
     "metadata": {},
     "output_type": "execute_result"
    }
   ],
   "source": [
    "f = open('/Users/yuanxinyi/Desktop/Stanford_Python/text.txt','r')\n",
    "f.closed"
   ]
  },
  {
   "cell_type": "code",
   "execution_count": 36,
   "metadata": {},
   "outputs": [
    {
     "name": "stdout",
     "output_type": "stream",
     "text": [
      "I am a simple file.\n\n['There are not much to see.\\n', 'How about the third line?\\n', 'How are you?\\n', 'I am fine, and you?\\n']\n"
     ]
    }
   ],
   "source": [
    "# Reading a file:\n",
    "# read whole file:\n",
    "with open('/Users/yuanxinyi/Desktop/Stanford_Python/text.txt','r') as f:\n",
    "    print(f.readline())\n",
    "    print(f.readlines())"
   ]
  },
  {
   "cell_type": "code",
   "execution_count": 37,
   "metadata": {},
   "outputs": [
    {
     "name": "stdout",
     "output_type": "stream",
     "text": [
      "line 0 : I am a simple file.\nline 1 : There are not much to see.\nline 2 : How about the third line?\nline 3 : How are you?\nline 4 : I am fine, and you?\n"
     ]
    }
   ],
   "source": [
    "# iterate in file\n",
    "with open('/Users/yuanxinyi/Desktop/Stanford_Python/text.txt','r') as f:\n",
    "    for i, line in enumerate(f):\n",
    "        print('line',i,\":\",line,end = '')"
   ]
  },
  {
   "cell_type": "code",
   "execution_count": 4,
   "metadata": {},
   "outputs": [
    {
     "name": "stdout",
     "output_type": "stream",
     "text": [
      "I am a simple file.\nThere are not much to see.\nHow about the third line?\nHow are you?\nI am fine, and you?\n"
     ]
    }
   ],
   "source": [
    "with open('/Users/yuanxinyi/Desktop/Stanford_Python/text.txt','r') as f:\n",
    "    for line in f:\n",
    "        print(line,end='') # without end='', a new line character\n",
    "        "
   ]
  },
  {
   "cell_type": "code",
   "execution_count": 9,
   "metadata": {},
   "outputs": [],
   "source": [
    "# Write a file -- create a new text file in folder\n",
    "name = 'Python learner'\n",
    "with open('/Users/yuanxinyi/Desktop/Stanford_Python/hello.txt','w') as f:\n",
    "    f.write(\"Hello,{}!\\n\".format(name))"
   ]
  },
  {
   "cell_type": "code",
   "execution_count": 16,
   "metadata": {},
   "outputs": [],
   "source": [
    "xs = ['i','am','a','fancy','list',42]\n",
    "with open('/Users/yuanxinyi/Desktop/Stanford_Python/append.txt','w') as f:\n",
    "    for x in xs:\n",
    "        f.write('{},'.format(x)) # {}之后的字符如果是逗号，被逗号隔开"
   ]
  },
  {
   "cell_type": "code",
   "execution_count": 17,
   "metadata": {},
   "outputs": [],
   "source": [
    "d = {'name':'peter pan','job':'lost boy','location':'Neverland'}\n",
    "with open('/Users/yuanxinyi/Desktop/Stanford_Python/append.txt','a') as f:\n",
    "    for k,v in d.items():\n",
    "        f.write('{}:{}n\\ '.format(k,v))"
   ]
  },
  {
   "cell_type": "code",
   "execution_count": 2,
   "metadata": {},
   "outputs": [],
   "source": [
    "# append to a file \n",
    "d = {'name':'peter pan','job':'lost boy','location':'Neverland'}\n",
    "with open('/Users/yuanxinyi/Desktop/Stanford_Python/append.txt','a') as f:\n",
    "    for k,v in d.items():\n",
    "        f.write('{}:{}n\\ '.format(k,v))"
   ]
  },
  {
   "cell_type": "code",
   "execution_count": 3,
   "metadata": {},
   "outputs": [],
   "source": [
    "#JSON Format\n",
    "import json # json is a industry standard format"
   ]
  },
  {
   "cell_type": "code",
   "execution_count": 4,
   "metadata": {},
   "outputs": [
    {
     "data": {
      "text/plain": [
       "'{\"name\": \"peter pan\", \"job\": \"lost boy\", \"location\": \"Neverland\"}'"
      ]
     },
     "execution_count": 4,
     "metadata": {},
     "output_type": "execute_result"
    }
   ],
   "source": [
    "json.dumps([1,'simple','list']) # covert to string\n",
    "json.dumps(d)"
   ]
  },
  {
   "cell_type": "code",
   "execution_count": 34,
   "metadata": {},
   "outputs": [],
   "source": [
    "with open('/Users/yuanxinyi/Desktop/Stanford_Python/pan.text','w') as f:\n",
    "    json.dump(d,f) \n",
    "# take python object and dump it to a file in json representation"
   ]
  },
  {
   "cell_type": "code",
   "execution_count": 35,
   "metadata": {},
   "outputs": [],
   "source": [
    "with open('/Users/yuanxinyi/Desktop/Stanford_Python/pan.text','r') as f:\n",
    "    pan = json.load(f)\n",
    "# load a object from disk to python object a one line of code\n",
    "    "
   ]
  },
  {
   "cell_type": "code",
   "execution_count": 38,
   "metadata": {},
   "outputs": [
    {
     "data": {
      "text/plain": [
       "dict"
      ]
     },
     "execution_count": 38,
     "metadata": {},
     "output_type": "execute_result"
    }
   ],
   "source": [
    "type(pan)\n"
   ]
  },
  {
   "cell_type": "code",
   "execution_count": 41,
   "metadata": {},
   "outputs": [
    {
     "name": "stdout",
     "output_type": "stream",
     "text": [
      "4459878480\n4459878480\n"
     ]
    }
   ],
   "source": [
    "###################### \n",
    "# Python Object Model\n",
    "######################\n",
    "x = 1\n",
    "x = x + 1\n",
    "print(id(x))\n",
    "print(id(2))\n",
    "# id function returns an integer representation of the object's location\n",
    "# in memory\n",
    "\n"
   ]
  },
  {
   "cell_type": "code",
   "execution_count": 1,
   "metadata": {},
   "outputs": [
    {
     "name": "stdout",
     "output_type": "stream",
     "text": [
      "4555885936\n4555885936\n"
     ]
    }
   ],
   "source": [
    "# Integers as objects\n",
    "# pre-allocates [-5,256]\n",
    "x = 43\n",
    "y = 43\n",
    "print(id(x))\n",
    "print(id(y))"
   ]
  },
  {
   "cell_type": "code",
   "execution_count": 2,
   "metadata": {},
   "outputs": [
    {
     "name": "stdout",
     "output_type": "stream",
     "text": [
      "4602330768\n4602330992\n"
     ]
    }
   ],
   "source": [
    "x = 1024\n",
    "y = 1024\n",
    "print(id(x))\n",
    "print(id(y))"
   ]
  },
  {
   "cell_type": "code",
   "execution_count": 8,
   "metadata": {},
   "outputs": [
    {
     "name": "stdout",
     "output_type": "stream",
     "text": [
      "x==y:  True\nx is y:  True\n"
     ]
    }
   ],
   "source": [
    "x = 1\n",
    "y = 1\n",
    "print('x==y: ',x==y)\n",
    "print('x is y: ',x is y)"
   ]
  },
  {
   "cell_type": "code",
   "execution_count": 9,
   "metadata": {},
   "outputs": [
    {
     "name": "stdout",
     "output_type": "stream",
     "text": [
      "x==y:  True\nx is y:  False\n"
     ]
    }
   ],
   "source": [
    "x = 2048\n",
    "y = 2048\n",
    "print('x==y: ',x==y)\n",
    "print('x is y: ',x is y)"
   ]
  },
  {
   "cell_type": "code",
   "execution_count": 10,
   "metadata": {},
   "outputs": [],
   "source": [
    "# Passing date to functions\n",
    "def print_id(input_var):\n",
    "    \"\"\"prints the id of the object referred to by input_var\"\"\"\n",
    "    print(id(input_var))\n"
   ]
  },
  {
   "cell_type": "code",
   "execution_count": 13,
   "metadata": {},
   "outputs": [
    {
     "name": "stdout",
     "output_type": "stream",
     "text": [
      "outside of function:  4594391704\n4594391704\n"
     ]
    }
   ],
   "source": [
    "x = 67.3\n",
    "print(\"outside of function: \",id(x))\n",
    "print_id(x)"
   ]
  },
  {
   "cell_type": "code",
   "execution_count": 15,
   "metadata": {},
   "outputs": [
    {
     "name": "stdout",
     "output_type": "stream",
     "text": [
      "outside of function:  4604350856\n4604350856\n"
     ]
    }
   ],
   "source": [
    "my_list = [1,2,\"string\"]\n",
    "print(\"outside of function: \",id(my_list))\n",
    "print_id(my_list)"
   ]
  },
  {
   "cell_type": "code",
   "execution_count": 17,
   "metadata": {},
   "outputs": [
    {
     "name": "stdout",
     "output_type": "stream",
     "text": [
      "[1, 2, 3, 'a', 'few', 'items']\n"
     ]
    }
   ],
   "source": [
    "def add_some_items(input_list):\n",
    "    input_list.append('a')\n",
    "    input_list.append('few')\n",
    "    input_list.append('items')\n",
    "    \n",
    "a_list = [1,2,3]\n",
    "add_some_items(a_list)\n",
    "print(a_list)"
   ]
  },
  {
   "cell_type": "code",
   "execution_count": 23,
   "metadata": {},
   "outputs": [
    {
     "name": "stdout",
     "output_type": "stream",
     "text": [
      "4555884624\na =  1\n4555884592\n"
     ]
    }
   ],
   "source": [
    "def reassign(b):\n",
    "    b = 2\n",
    "    print(id(b))\n",
    "\n",
    "a = 1\n",
    "reassign(a)\n",
    "print('a = ',a)\n",
    "print(id(a)) # integer and character string are immutable"
   ]
  },
  {
   "cell_type": "code",
   "execution_count": 22,
   "metadata": {},
   "outputs": [
    {
     "name": "stdout",
     "output_type": "stream",
     "text": [
      "hellolalala\nhello\n"
     ]
    }
   ],
   "source": [
    "def modify(string):\n",
    "    string = string + 'lalala'\n",
    "    print(string)\n",
    "s = 'hello'\n",
    "modify(s)\n",
    "print(s)"
   ]
  },
  {
   "cell_type": "code",
   "execution_count": 26,
   "metadata": {},
   "outputs": [
    {
     "name": "stdout",
     "output_type": "stream",
     "text": [
      "['a', 'basic', 'list']\n"
     ]
    }
   ],
   "source": [
    "# copy data sctucture\n",
    "a = ['a','simple','list']\n",
    "b = a\n",
    "b[1] = 'basic'\n",
    "print(a) # assignment between variables copies the reference, not the data\n"
   ]
  },
  {
   "cell_type": "code",
   "execution_count": 28,
   "metadata": {},
   "outputs": [
    {
     "name": "stdout",
     "output_type": "stream",
     "text": [
      "['a', 'simple', 'list']\n['a', 'simple', 'list']\n"
     ]
    }
   ],
   "source": [
    "a = ['a','simple','list']\n",
    "b = list(a) # method 1: copy data\n",
    "c = a[:] # method 2: copy data\n",
    "b[1] = 'basic'\n",
    "print(a)\n",
    "print(c)"
   ]
  },
  {
   "cell_type": "code",
   "execution_count": 1,
   "metadata": {},
   "outputs": [],
   "source": [
    "import copy"
   ]
  },
  {
   "cell_type": "code",
   "execution_count": 4,
   "metadata": {},
   "outputs": [
    {
     "name": "stdout",
     "output_type": "stream",
     "text": [
      "{'apple': 'fruit', 'kale': 'vegetable', 'orange': 'fruit'}\n{'apple': 'fruit', 'kale': 'vegetable'}\n"
     ]
    }
   ],
   "source": [
    "my_dict = {'apple':'fruit','kale':'vegetable'}\n",
    "other_dict = copy.copy(my_dict)\n",
    "other_dict['orange'] = 'fruit'\n",
    "print(other_dict)\n",
    "print(my_dict)"
   ]
  },
  {
   "cell_type": "code",
   "execution_count": 5,
   "metadata": {},
   "outputs": [],
   "source": [
    "# copy nested data structure\n",
    "data = {'info':'distance','units':'meter','measurements':[3.5,3.7,3.9]}"
   ]
  },
  {
   "cell_type": "code",
   "execution_count": 8,
   "metadata": {},
   "outputs": [
    {
     "name": "stdout",
     "output_type": "stream",
     "text": [
      "{'info': 'distance', 'units': 'meter', 'measurements': [3.5, 3.7, 3.9, 3.8]}\n"
     ]
    }
   ],
   "source": [
    "data_dup = copy.copy(data)\n",
    "data_dup['collection_site'] = 'lake'\n",
    "data_dup['measurements'].append(3.8)\n",
    "print(data)\n",
    "# copy.copy() only created a new-top level dictionary.\n",
    "# However, only references for nested objects were coped."
   ]
  },
  {
   "cell_type": "code",
   "execution_count": 10,
   "metadata": {},
   "outputs": [
    {
     "name": "stdout",
     "output_type": "stream",
     "text": [
      "{'info': 'distance', 'units': 'meter', 'measurements': [3.5, 3.7, 3.9]}\n{'info': 'distance', 'units': 'meter', 'measurements': [3.5, 3.7, 3.9, 3.8], 'collection_site': 'lake'}\n"
     ]
    }
   ],
   "source": [
    "# use deepcopy() to create a completely separate copy of a nested data\n",
    "# structure \n",
    "data = {'info':'distance','units':'meter','measurements':[3.5,3.7,3.9]}\n",
    "import copy\n",
    "data_dup = copy.deepcopy(data)\n",
    "data_dup['collection_site'] = 'lake'\n",
    "data_dup['measurements'].append(3.8)\n",
    "print(data)\n",
    "print(data_dup)"
   ]
  },
  {
   "cell_type": "code",
   "execution_count": 13,
   "metadata": {},
   "outputs": [
    {
     "name": "stdout",
     "output_type": "stream",
     "text": [
      "hello\n4504026904\nhello\n4504026904\n"
     ]
    }
   ],
   "source": [
    "def f():\n",
    "    print('hello')\n",
    "m = f()\n",
    "\n",
    "print(id(m))\n",
    "print(id(f()))"
   ]
  },
  {
   "cell_type": "code",
   "execution_count": 16,
   "metadata": {},
   "outputs": [
    {
     "name": "stdout",
     "output_type": "stream",
     "text": [
      "hello\n"
     ]
    }
   ],
   "source": [
    "def update_my_list(the_list):\n",
    "    the_list = ['and','gb']\n",
    "\n",
    "the_list = 'hello'\n",
    "update_my_list(the_list)\n",
    "\n",
    "print(the_list)"
   ]
  },
  {
   "cell_type": "code",
   "execution_count": null,
   "metadata": {},
   "outputs": [],
   "source": []
  }
 ],
 "metadata": {
  "kernelspec": {
   "display_name": "Python 2",
   "language": "python",
   "name": "python2"
  },
  "language_info": {
   "codemirror_mode": {
    "name": "ipython",
    "version": 2
   },
   "file_extension": ".py",
   "mimetype": "text/x-python",
   "name": "python",
   "nbconvert_exporter": "python",
   "pygments_lexer": "ipython2",
   "version": "2.7.6"
  }
 },
 "nbformat": 4,
 "nbformat_minor": 0
}
