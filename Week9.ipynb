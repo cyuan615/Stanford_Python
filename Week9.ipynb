{
 "cells": [
  {
   "cell_type": "code",
   "execution_count": 15,
   "metadata": {
    "collapsed": true
   },
   "outputs": [
    {
     "name": "stdout",
     "output_type": "stream",
     "text": [
      "[0 1 2 3]\n"
     ]
    }
   ],
   "source": [
    "##################\n",
    "##### Numpy\n",
    "##################\n",
    "import numpy as np\n",
    "a = np.array([0,1,2,3])\n",
    "print(a)"
   ]
  },
  {
   "cell_type": "code",
   "execution_count": 2,
   "metadata": {},
   "outputs": [],
   "source": [
    "my_array = np.array([\n",
    "                    [[1,2,3],[4,5,6],[7,8,9]],\n",
    "                    [[3,2,1],[6,5,4],[9,8,7]],\n",
    "                    [[1,2,7],[4,5,7],[1,2,7]]\n",
    "                    ])\n",
    "# 3 dimensions\n"
   ]
  },
  {
   "cell_type": "code",
   "execution_count": 3,
   "metadata": {},
   "outputs": [
    {
     "name": "stdout",
     "output_type": "stream",
     "text": [
      "[7 8 9]\n"
     ]
    }
   ],
   "source": [
    "print(my_array[0,2,:]) \n",
    "# the zero-th index of the first dimension gives the first matrics\n"
   ]
  },
  {
   "cell_type": "code",
   "execution_count": 4,
   "metadata": {},
   "outputs": [
    {
     "name": "stdout",
     "output_type": "stream",
     "text": [
      "['1' 'a_string']\n"
     ]
    }
   ],
   "source": [
    "import numpy as np\n",
    "my_array = np.array([1,'a_string'])\n",
    "print(my_array)\n",
    "# automaticlly convert integer to string --> Homegeneous"
   ]
  },
  {
   "cell_type": "code",
   "execution_count": 12,
   "metadata": {},
   "outputs": [
    {
     "name": "stdout",
     "output_type": "stream",
     "text": [
      "[0, 1, 2, 3, 4, 5, 6, 7, 8, 9]\n"
     ]
    },
    {
     "data": {
      "text/plain": [
       "[0, 1, 4, 9, 16, 25, 36, 49, 64, 81]"
      ]
     },
     "execution_count": 12,
     "metadata": {},
     "output_type": "execute_result"
    }
   ],
   "source": [
    "l = list(range(10))\n",
    "print(l)\n",
    "[i ** 2 for i in l]"
   ]
  },
  {
   "cell_type": "code",
   "execution_count": 22,
   "metadata": {},
   "outputs": [
    {
     "name": "stdout",
     "output_type": "stream",
     "text": [
      "3.45 µs ± 90.9 ns per loop (mean ± std. dev. of 7 runs, 100000 loops each)\n"
     ]
    }
   ],
   "source": [
    "L = list(range(10))\n",
    "%timeit [i**2 for i in L]"
   ]
  },
  {
   "cell_type": "code",
   "execution_count": 16,
   "metadata": {},
   "outputs": [
    {
     "name": "stdout",
     "output_type": "stream",
     "text": [
      "1.11 µs ± 11.9 ns per loop (mean ± std. dev. of 7 runs, 1000000 loops each)\n"
     ]
    }
   ],
   "source": [
    "a = np.arange(1000)\n",
    "%timeit a**2 # much faster when using numpy"
   ]
  },
  {
   "cell_type": "code",
   "execution_count": 24,
   "metadata": {},
   "outputs": [
    {
     "name": "stdout",
     "output_type": "stream",
     "text": [
      "[0 1 2 3 4 5 6 7 8 9]\n"
     ]
    },
    {
     "data": {
      "text/plain": [
       "array([ 0,  1,  4,  9, 16, 25, 36, 49, 64, 81])"
      ]
     },
     "execution_count": 24,
     "metadata": {},
     "output_type": "execute_result"
    }
   ],
   "source": [
    "b = np.arange(10)\n",
    "print(b)\n",
    "b**2"
   ]
  },
  {
   "cell_type": "code",
   "execution_count": 29,
   "metadata": {},
   "outputs": [
    {
     "name": "stdout",
     "output_type": "stream",
     "text": [
      "Search results for 'create array'\n---------------------------------\nnumpy.array\n    Create an array.\nnumpy.memmap\n    Create a memory-map to an array stored in a *binary* file on disk.\nnumpy.diagflat\n    Create a two-dimensional array with the flattened input as a diagonal.\nnumpy.fromiter\n    Create a new 1-dimensional array from an iterable object.\nnumpy.partition\n    Return a partitioned copy of an array.\nnumpy.ctypeslib.as_array\n    Create a numpy array from a ctypes array or a ctypes POINTER.\nnumpy.ma.diagflat\n    Create a two-dimensional array with the flattened input as a diagonal.\nnumpy.ma.make_mask\n    Create a boolean mask from an array.\nnumpy.ctypeslib.as_ctypes\n    Create and return a ctypes object from a numpy array.  Actually\nnumpy.ma.mrecords.fromarrays\n    Creates a mrecarray from a (flat) list of masked arrays.\nnumpy.ma.mvoid.__new__\n    Create a new masked array from scratch.\nnumpy.lib.format.open_memmap\n    Open a .npy file as a memory-mapped array.\nnumpy.ma.MaskedArray.__new__\n    Create a new masked array from scratch.\nnumpy.lib.arrayterator.Arrayterator\n    Buffered iterator for big arrays.\nnumpy.ma.mrecords.fromtextfile\n    Creates a mrecarray from data stored in the file `filename`.\nnumpy.asarray\n    Convert the input to an array.\nnumpy.ndarray\n    ndarray(shape, dtype=float, buffer=None, offset=0,\nnumpy.recarray\n    Construct an ndarray that allows field access using attributes.\nnumpy.chararray\n    chararray(shape, itemsize=1, unicode=False, buffer=None, offset=0,\nnumpy.pad\n    Pads an array.\nnumpy.asanyarray\n    Convert the input to an ndarray, but pass ndarray subclasses through.\nnumpy.copy\n    Return an array copy of the given object.\nnumpy.diag\n    Extract a diagonal or construct a diagonal array.\nnumpy.load\n    Load arrays or pickled objects from ``.npy``, ``.npz`` or pickled files.\nnumpy.sort\n    Return a sorted copy of an array.\nnumpy.array_equiv\n    Returns True if input arrays are shape consistent and all elements equal.\nnumpy.dtype\n    Create a data type object.\nnumpy.choose\n    Construct an array from an index array and a set of arrays to choose from.\nnumpy.nditer\n    Efficient multi-dimensional iterator object to iterate over arrays.\nnumpy.swapaxes\n    Interchange two axes of an array.\nnumpy.full_like\n    Return a full array with the same shape and type as a given array.\nnumpy.ones_like\n    Return an array of ones with the same shape and type as a given array.\nnumpy.empty_like\n    Return a new array with the same shape and type as a given array.\nnumpy.ma.mrecords.MaskedRecords.__new__\n    Create a new masked array from scratch.\nnumpy.nan_to_num\n    Replace nan with zero and inf with finite numbers.\nnumpy.zeros_like\n    Return an array of zeros with the same shape and type as a given array.\nnumpy.asarray_chkfinite\n    Convert the input to an array, checking for NaNs or Infs.\nnumpy.diag_indices\n    Return the indices to access the main diagonal of an array.\nnumpy.chararray.tolist\n    a.tolist()\nnumpy.ma.choose\n    Use an index array to construct a new array from a set of choices.\nnumpy.savez_compressed\n    Save several arrays into a single file in compressed ``.npz`` format.\nnumpy.matlib.rand\n    Return a matrix of random values with given shape.\nnumpy.ma.empty_like\n    Return a new array with the same shape and type as a given array.\nnumpy.ma.make_mask_none\n    Return a boolean mask of the given shape, filled with False.\nnumpy.ma.mrecords.fromrecords\n    Creates a MaskedRecords from a list of records.\nnumpy.around\n    Evenly round to the given number of decimals.\nnumpy.source\n    Print or write to a file the source code for a NumPy object.\nnumpy.diagonal\n    Return specified diagonals.\nnumpy.einsum_path\n    Evaluates the lowest cost contraction order for an einsum expression by\nnumpy.histogram2d\n    Compute the bi-dimensional histogram of two data samples.\nnumpy.fft.ifft\n    Compute the one-dimensional inverse discrete Fourier Transform.\nnumpy.fft.ifftn\n    Compute the N-dimensional inverse discrete Fourier Transform.\nnumpy.busdaycalendar\n    A business day calendar object that efficiently stores information"
     ]
    }
   ],
   "source": [
    "# Navigating NumPy Documentation\n",
    "np.lookfor('create array')"
   ]
  },
  {
   "cell_type": "code",
   "execution_count": 37,
   "metadata": {},
   "outputs": [
    {
     "name": "stdout",
     "output_type": "stream",
     "text": [
      "[0 1 2 3]\n1\n(4,)\n4\n"
     ]
    }
   ],
   "source": [
    "# Creating Arrays\n",
    "a = np.array([0,1,2,3])\n",
    "print(a)\n",
    "print(a.ndim) # number of dimensions\n",
    "print(a.shape) # number of elements in each dimension\n",
    "print(len(a))"
   ]
  },
  {
   "cell_type": "code",
   "execution_count": 43,
   "metadata": {},
   "outputs": [
    {
     "name": "stdout",
     "output_type": "stream",
     "text": [
      "[[0 1 2]\n [3 4 5]]\n2\n(2, 3)\n2\n"
     ]
    }
   ],
   "source": [
    "b = np.array([[0,1,2],[3,4,5]])\n",
    "print(b)\n",
    "print(b.ndim)\n",
    "print(b.shape)\n",
    "print(len(b))"
   ]
  },
  {
   "cell_type": "code",
   "execution_count": 46,
   "metadata": {},
   "outputs": [
    {
     "name": "stdout",
     "output_type": "stream",
     "text": [
      "(2, 2, 1)\n"
     ]
    }
   ],
   "source": [
    "c = np.array([[[0],[1]],[[2],[3]]])\n",
    "print(c.shape)"
   ]
  },
  {
   "cell_type": "code",
   "execution_count": 50,
   "metadata": {},
   "outputs": [
    {
     "name": "stdout",
     "output_type": "stream",
     "text": [
      "[0 1 2 3 4 5 6 7 8 9]\n[1 3 5 7]\n"
     ]
    }
   ],
   "source": [
    "# functions for creating arrays -- similar to python range function\n",
    "a = np.arange(10)\n",
    "b = np.arange(1,9,2)\n",
    "print(a)\n",
    "print(b)"
   ]
  },
  {
   "cell_type": "code",
   "execution_count": 54,
   "metadata": {},
   "outputs": [
    {
     "name": "stdout",
     "output_type": "stream",
     "text": [
      "[ 0.   0.2  0.4  0.6  0.8  1. ]\n[ 0.   0.2  0.4  0.6  0.8]\n"
     ]
    }
   ],
   "source": [
    "c = np.linspace(0,1,6) # start, end, num-points\n",
    "d = np.linspace(0,1,5,endpoint=False)\n",
    "print(c)\n",
    "print(d)"
   ]
  },
  {
   "cell_type": "code",
   "execution_count": 67,
   "metadata": {},
   "outputs": [
    {
     "name": "stdout",
     "output_type": "stream",
     "text": [
      "[[[ 1.  1.  1.]\n  [ 1.  1.  1.]\n  [ 1.  1.  1.]]\n\n [[ 1.  1.  1.]\n  [ 1.  1.  1.]\n  [ 1.  1.  1.]]\n\n [[ 1.  1.  1.]\n  [ 1.  1.  1.]\n  [ 1.  1.  1.]]]\n[[[ 0.  0.]\n  [ 0.  0.]\n  [ 0.  0.]]\n\n [[ 0.  0.]\n  [ 0.  0.]\n  [ 0.  0.]]]\n[[ 1.  0.  0.]\n [ 0.  1.  0.]\n [ 0.  0.  1.]]\n"
     ]
    }
   ],
   "source": [
    "a = np.ones((3,3,3)) # reminder: (3,3) is a tuple\n",
    "b = np.zeros((2,3,2))\n",
    "print(a)\n",
    "print(b)\n"
   ]
  },
  {
   "cell_type": "code",
   "execution_count": 77,
   "metadata": {},
   "outputs": [
    {
     "name": "stdout",
     "output_type": "stream",
     "text": [
      "[[ 1.  0.  0.  0.]\n [ 0.  1.  0.  0.]\n [ 0.  0.  1.  0.]\n [ 0.  0.  0.  1.]]\n[[1 0 0 0]\n [0 2 0 0]\n [0 0 3 0]\n [0 0 0 4]]\n"
     ]
    }
   ],
   "source": [
    "c = np.eye(4)\n",
    "print(c)\n",
    "d = np.diag(np.array([1,2,3,4]))\n",
    "print(d)"
   ]
  },
  {
   "cell_type": "code",
   "execution_count": 87,
   "metadata": {},
   "outputs": [
    {
     "name": "stdout",
     "output_type": "stream",
     "text": [
      "[[ 0.19151945  0.62210877  0.43772774]\n [ 0.78535858  0.77997581  0.27259261]\n [ 0.27646426  0.80187218  0.95813935]]\n[[ 0.87593263  0.35781727  0.50099513  0.68346294]\n [ 0.71270203  0.37025075  0.56119619  0.50308317]\n [ 0.01376845  0.77282662  0.88264119  0.36488598]\n [ 0.61539618  0.07538124  0.36882401  0.9331401 ]]\n[-1.12650247  1.65887284 -0.66044141  1.04108597]\nNone\n"
     ]
    }
   ],
   "source": [
    "# Generating Arrays if Random Numbers\n",
    "a1 = np.random.random((3,3)) # uniform in [0,1]\n",
    "print(a1)\n",
    "\n",
    "a2 = np.random.rand(4,4)  # uniform in [0,1]\n",
    "print(a2)\n",
    "\n",
    "b = np.random.randn(4)  # gaussian\n",
    "print(b)\n",
    "\n",
    "c = np.random.seed(1234) # setting the random seed"
   ]
  },
  {
   "cell_type": "code",
   "execution_count": 89,
   "metadata": {},
   "outputs": [
    {
     "name": "stdout",
     "output_type": "stream",
     "text": [
      "int64\n"
     ]
    }
   ],
   "source": [
    "# basic data type\n",
    "a = np.array([1,2,3])\n",
    "print(a.dtype)"
   ]
  },
  {
   "cell_type": "code",
   "execution_count": 90,
   "metadata": {},
   "outputs": [
    {
     "name": "stdout",
     "output_type": "stream",
     "text": [
      "float64\n"
     ]
    }
   ],
   "source": [
    "a = np.array([1.0,2.0,3.0])\n",
    "print(a.dtype)"
   ]
  },
  {
   "cell_type": "code",
   "execution_count": 96,
   "metadata": {},
   "outputs": [
    {
     "name": "stdout",
     "output_type": "stream",
     "text": [
      "float64\nfloat16\n"
     ]
    }
   ],
   "source": [
    "c = np.array([1,2,3],dtype=float)\n",
    "print(c.dtype)\n",
    "d = np.array([1,2,3],dtype=np.float16)\n",
    "print(d.dtype)"
   ]
  },
  {
   "cell_type": "code",
   "execution_count": 105,
   "metadata": {},
   "outputs": [
    {
     "name": "stdout",
     "output_type": "stream",
     "text": [
      "float64\ncomplex128\nbool\n<U5\n"
     ]
    }
   ],
   "source": [
    "# the default data type is floating point:\n",
    "a = np.ones((3,3))\n",
    "print(a.dtype)\n",
    "\n",
    "# there are also other data types: complex\n",
    "d = np.array([1+2j,3+4j])\n",
    "print(d.dtype)\n",
    "\n",
    "# there are also other data types: bool\n",
    "e = np.array([True,False,True])\n",
    "print(e.dtype)\n",
    "\n",
    "# there are also other data types: string\n",
    "f = np.array(['hello','你好'])\n",
    "print(f.dtype)"
   ]
  },
  {
   "cell_type": "code",
   "execution_count": 111,
   "metadata": {},
   "outputs": [],
   "source": [
    "# basic visualization -- matplotlib\n",
    "import matplotlib.pyplot as plt\n",
    "%matplotlib inline \n",
    "#display imagine inside of notebook\n",
    "%config InlineBackend.figure_format = 'svg' #display imagine using format 'svg'"
   ]
  },
  {
   "cell_type": "code",
   "execution_count": 116,
   "metadata": {},
   "outputs": [],
   "source": [
    "# plt.plot([1.0,2.0,3.0],[0.0,0.2,0.6])"
   ]
  },
  {
   "cell_type": "code",
   "execution_count": 117,
   "metadata": {},
   "outputs": [],
   "source": [
    "# x = np.linspace(0,3,20)\n",
    "# y = np.linspace(0,9,20)\n",
    "# plt.plot(x,y)\n",
    "# plt.plot(x,y,'o')"
   ]
  },
  {
   "cell_type": "code",
   "execution_count": 2,
   "metadata": {},
   "outputs": [],
   "source": [
    "# indexing array\n",
    "\n",
    "import numpy as np\n"
   ]
  },
  {
   "cell_type": "code",
   "execution_count": 3,
   "metadata": {},
   "outputs": [
    {
     "name": "stdout",
     "output_type": "stream",
     "text": [
      "[0 1 2 3 4 5 6 7 8 9]\n"
     ]
    },
    {
     "data": {
      "text/plain": [
       "(0, 9)"
      ]
     },
     "execution_count": 3,
     "metadata": {},
     "output_type": "execute_result"
    }
   ],
   "source": [
    "a = np.arange(10)\n",
    "print(a)\n",
    "a[0],a[-1]"
   ]
  },
  {
   "cell_type": "code",
   "execution_count": 4,
   "metadata": {},
   "outputs": [
    {
     "data": {
      "text/plain": [
       "array([9, 8, 7, 6, 5, 4, 3, 2, 1, 0])"
      ]
     },
     "execution_count": 4,
     "metadata": {},
     "output_type": "execute_result"
    }
   ],
   "source": [
    "# the usual python idiom for reversing a sequence is supported:\n",
    "a[::-1]"
   ]
  },
  {
   "cell_type": "code",
   "execution_count": 19,
   "metadata": {},
   "outputs": [
    {
     "name": "stdout",
     "output_type": "stream",
     "text": [
      "[[0 0 0]\n [0 1 0]\n [0 0 2]]\n1\n[[0 0 0]\n [0 1 0]\n [0 8 2]]\n"
     ]
    }
   ],
   "source": [
    "# for multidimensional arrays, indexes are tuples of integers:\n",
    "a = np.diag(np.arange(3))\n",
    "print(a)\n",
    "print(a[1,1])\n",
    "a[2,1] = 8\n",
    "print(a)"
   ]
  },
  {
   "cell_type": "code",
   "execution_count": 21,
   "metadata": {},
   "outputs": [
    {
     "name": "stdout",
     "output_type": "stream",
     "text": [
      "[[10  0  0]\n [ 0 11  0]\n [ 0  0 12]]\n"
     ]
    }
   ],
   "source": [
    "b = np.diag(10+np.arange(3))\n",
    "print(b)"
   ]
  },
  {
   "cell_type": "code",
   "execution_count": 22,
   "metadata": {},
   "outputs": [
    {
     "data": {
      "text/plain": [
       "array([2, 5, 8])"
      ]
     },
     "execution_count": 22,
     "metadata": {},
     "output_type": "execute_result"
    }
   ],
   "source": [
    "###################\n",
    "# slicing the array\n",
    "###################\n",
    "a = np.arange(10)\n",
    "a[2:9:3] # start, end, step"
   ]
  },
  {
   "cell_type": "code",
   "execution_count": 23,
   "metadata": {},
   "outputs": [
    {
     "data": {
      "text/plain": [
       "array([0, 1, 2, 3])"
      ]
     },
     "execution_count": 23,
     "metadata": {},
     "output_type": "execute_result"
    }
   ],
   "source": [
    "a[:4] # note the last element is not included"
   ]
  },
  {
   "cell_type": "code",
   "execution_count": 25,
   "metadata": {},
   "outputs": [
    {
     "name": "stdout",
     "output_type": "stream",
     "text": [
      "[ 0  1  2  3  4 10 10 10 10 10]\n"
     ]
    }
   ],
   "source": [
    "# combine assignment and slicing\n",
    "a = np.arange(10)\n",
    "a[5:] = 10\n",
    "print(a)"
   ]
  },
  {
   "cell_type": "code",
   "execution_count": 28,
   "metadata": {},
   "outputs": [
    {
     "name": "stdout",
     "output_type": "stream",
     "text": [
      "[0 1 2 3 4 4 3 2 1 0]\n"
     ]
    }
   ],
   "source": [
    "b = np.arange(5)\n",
    "a[5:] = b[::-1]\n",
    "print(a)"
   ]
  },
  {
   "cell_type": "code",
   "execution_count": 33,
   "metadata": {},
   "outputs": [
    {
     "name": "stdout",
     "output_type": "stream",
     "text": [
      "a: [0 1 2 3 4 5 6 7 8 9]\nb: [0 2 4 6 8]\n"
     ]
    },
    {
     "data": {
      "text/plain": [
       "True"
      ]
     },
     "execution_count": 33,
     "metadata": {},
     "output_type": "execute_result"
    }
   ],
   "source": [
    "###################\n",
    "# view of an array\n",
    "###################\n",
    "a = np.arange(10)\n",
    "print(\"a:\",a)\n",
    "b = a[::2]\n",
    "print(\"b:\",b)\n",
    "np.may_share_memory(a,b) \n"
   ]
  },
  {
   "cell_type": "code",
   "execution_count": 34,
   "metadata": {},
   "outputs": [
    {
     "name": "stdout",
     "output_type": "stream",
     "text": [
      "[99  1  2  3  4  5  6  7  8  9]\n"
     ]
    }
   ],
   "source": [
    "# if a and b may share memory, I change value for a, it will reflect to b as well\n",
    "b[0] = 99\n",
    "print(a)"
   ]
  },
  {
   "cell_type": "code",
   "execution_count": 36,
   "metadata": {},
   "outputs": [
    {
     "name": "stdout",
     "output_type": "stream",
     "text": [
      "[12  2  4  6  8]\n[0 1 2 3 4 5 6 7 8 9]\n"
     ]
    }
   ],
   "source": [
    "# force copy\n",
    "a = np.arange(10)\n",
    "c = a[::2].copy()\n",
    "c[0] = 12\n",
    "print(c)\n",
    "print(a)"
   ]
  },
  {
   "cell_type": "code",
   "execution_count": 37,
   "metadata": {},
   "outputs": [
    {
     "name": "stdout",
     "output_type": "stream",
     "text": [
      "a: [10  3  8  0 19 10 11  9 10  6  0 12  7 14 17]\n"
     ]
    }
   ],
   "source": [
    "###################\n",
    "# fancy indexing\n",
    "###################\n",
    "\n",
    "# 1. using boolean maskes\n",
    "np.random.seed(3)\n",
    "a = np.random.randint(0,20,15)\n",
    "print(\"a:\",a)\n"
   ]
  },
  {
   "cell_type": "code",
   "execution_count": 39,
   "metadata": {},
   "outputs": [
    {
     "data": {
      "text/plain": [
       "array([ 3,  0,  9,  6,  0, 12])"
      ]
     },
     "execution_count": 39,
     "metadata": {},
     "output_type": "execute_result"
    }
   ],
   "source": [
    "mask = (a % 3 == 0)\n",
    "extract_from_a = a[mask]\n",
    "extract_from_a"
   ]
  },
  {
   "cell_type": "code",
   "execution_count": 41,
   "metadata": {},
   "outputs": [
    {
     "data": {
      "text/plain": [
       "array([10, -1,  8, -1, 19, 10, 11, -1, 10, -1, -1, -1,  7, 14, 17])"
      ]
     },
     "execution_count": 41,
     "metadata": {},
     "output_type": "execute_result"
    }
   ],
   "source": [
    "# very helpful to assign a new value to sub-array\n",
    "a[a % 3 == 0] = -1\n",
    "a"
   ]
  },
  {
   "cell_type": "code",
   "execution_count": 45,
   "metadata": {},
   "outputs": [
    {
     "name": "stdout",
     "output_type": "stream",
     "text": [
      "[ 0 10 20 30 40 50 60 70 80 90]\n"
     ]
    },
    {
     "data": {
      "text/plain": [
       "array([20, 30, 20, 40, 20])"
      ]
     },
     "execution_count": 45,
     "metadata": {},
     "output_type": "execute_result"
    }
   ],
   "source": [
    "# 2. indexing with an array of integers\n",
    "a = np.arange(0,100,10)\n",
    "print(a)\n",
    "\n",
    "a[[2,3,2,4,2]] # [2,3,2,4,2] is a python list"
   ]
  },
  {
   "cell_type": "code",
   "execution_count": 46,
   "metadata": {},
   "outputs": [
    {
     "data": {
      "text/plain": [
       "array([  0,  10,  20,  30,  40,  50,  60, 100,  80, 100])"
      ]
     },
     "execution_count": 46,
     "metadata": {},
     "output_type": "execute_result"
    }
   ],
   "source": [
    "# assignment\n",
    "a[[9,7]] = 100\n",
    "a"
   ]
  },
  {
   "cell_type": "code",
   "execution_count": 56,
   "metadata": {},
   "outputs": [
    {
     "name": "stdout",
     "output_type": "stream",
     "text": [
      "[[3 4]\n [9 7]]\n(2, 2)\n"
     ]
    }
   ],
   "source": [
    "a = np.array(10)\n",
    "idx = np.array([[3,4],[9,7]])\n",
    "print(idx)\n",
    "print(idx.shape)\n",
    "#print(a[idx])\n"
   ]
  },
  {
   "cell_type": "code",
   "execution_count": null,
   "metadata": {},
   "outputs": [],
   "source": []
  }
 ],
 "metadata": {
  "kernelspec": {
   "display_name": "Python 2",
   "language": "python",
   "name": "python2"
  },
  "language_info": {
   "codemirror_mode": {
    "name": "ipython",
    "version": 2
   },
   "file_extension": ".py",
   "mimetype": "text/x-python",
   "name": "python",
   "nbconvert_exporter": "python",
   "pygments_lexer": "ipython2",
   "version": "2.7.6"
  }
 },
 "nbformat": 4,
 "nbformat_minor": 0
}
