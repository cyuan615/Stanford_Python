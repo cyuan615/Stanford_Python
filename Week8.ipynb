{
 "cells": [
  {
   "cell_type": "code",
   "execution_count": 2,
   "metadata": {
    "collapsed": true
   },
   "outputs": [
    {
     "name": "stdout",
     "output_type": "stream",
     "text": [
      "<__main__.Leaf object at 0x106a306d8>\n<class '__main__.Leaf'>\n"
     ]
    }
   ],
   "source": [
    "# class\n",
    "class Leaf:\n",
    "    pass\n",
    "\n",
    "# instantinate object:\n",
    "leaf = Leaf()\n",
    "\n",
    "print(leaf)\n",
    "print(type(leaf))"
   ]
  },
  {
   "cell_type": "code",
   "execution_count": 8,
   "metadata": {},
   "outputs": [
    {
     "name": "stdout",
     "output_type": "stream",
     "text": [
      "red\nblue\n"
     ]
    }
   ],
   "source": [
    "class Leaf:\n",
    "    def __init__(self,color):\n",
    "        self.color = color # object attribute\n",
    "\n",
    "redleaf = Leaf('red')\n",
    "blueleaf = Leaf('blue')\n",
    "print(redleaf.color)\n",
    "print(blueleaf.color)"
   ]
  },
  {
   "cell_type": "code",
   "execution_count": 9,
   "metadata": {},
   "outputs": [
    {
     "name": "stdout",
     "output_type": "stream",
     "text": [
      "300\n"
     ]
    }
   ],
   "source": [
    "class stock:\n",
    "    def __init__(self, name, symbol, price):\n",
    "        self.name = name\n",
    "        self.symbol = symbol\n",
    "        self.price = price\n",
    "    \n",
    "    def high_price(self):\n",
    "        if len(self.price) == 0:\n",
    "            return 'Missing price'\n",
    "        return max(self.price)\n",
    "\n",
    "apple = stock('apple','appl',[100,200,300])\n",
    "print(apple.high_price())"
   ]
  },
  {
   "cell_type": "code",
   "execution_count": 14,
   "metadata": {
    "collapsed": true
   },
   "outputs": [
    {
     "name": "stdout",
     "output_type": "stream",
     "text": [
      "2\n"
     ]
    }
   ],
   "source": [
    "# class attributes\n",
    "class Leaf:\n",
    "    n_leafs = 0\n",
    "    \n",
    "    def __init__(self,color):\n",
    "        self.color = color # object attribute\n",
    "        Leaf.n_leafs += 1\n",
    " \n",
    "redleaf = Leaf('red')\n",
    "blueleaf = Leaf('blue')\n",
    "\n",
    "print(Leaf.n_leafs)"
   ]
  },
  {
   "cell_type": "code",
   "execution_count": 3,
   "metadata": {},
   "outputs": [
    {
     "name": "stdout",
     "output_type": "stream",
     "text": [
      "noise\n4\nbrutus: woof\n"
     ]
    }
   ],
   "source": [
    "# Inheritance\n",
    "class Animal:\n",
    "    \n",
    "    def __init__(self, n_legs, color):\n",
    "        self.n_legs = n_legs\n",
    "        self.color = color\n",
    "    def make_noise(self):\n",
    "        print('noise')\n",
    "    \n",
    "class Dog(Animal):\n",
    "    \n",
    "    def __init__(self,color,name):\n",
    "        Animal.__init__(self,4,color)\n",
    "        self.name = name\n",
    "    def make_noise(self):\n",
    "        print(self.name +': '+'woof')\n",
    "\n",
    "bird = Animal(2,'white')\n",
    "bird.make_noise()\n",
    "\n",
    "brutus = Dog('black','brutus')\n",
    "print(brutus.n_legs)\n",
    "brutus.make_noise()"
   ]
  },
  {
   "cell_type": "code",
   "execution_count": 13,
   "metadata": {},
   "outputs": [
    {
     "name": "stdout",
     "output_type": "stream",
     "text": [
      "I am a white dog named shelly.\nrepr(shelly):  dog('white','shelly')\n<class 'str'> <class 'str'>\n"
     ]
    }
   ],
   "source": [
    "# Base method\n",
    "class Dog(Animal):\n",
    "    \n",
    "    def __init__(self,color,name):\n",
    "        Animal.__init__(self,4,color)\n",
    "        self.name = name\n",
    "    def make_noise(self):\n",
    "        print(self.name +': '+'woof')\n",
    "    def __repr__(self): #represent the object for machines, should be unambiguous\n",
    "        return \"dog({},{})\".format(repr(self.color),repr(self.name))\n",
    "    def __str__(self): #represent the object for humans, return a string (print)\n",
    "        return \"I am a {} dog named {}.\".format(self.color,self.name)\n",
    "\n",
    "shelly = Dog('white','shelly')\n",
    "print(shelly)\n",
    "print(\"repr(shelly): \",repr(shelly))\n",
    "print(type(repr(shelly)))"
   ]
  },
  {
   "cell_type": "code",
   "execution_count": 14,
   "metadata": {},
   "outputs": [],
   "source": [
    "# Rational Numbers\n",
    "class Rational:\n",
    "    def __init__(self,p,q=1):\n",
    "        self.p = p \n",
    "        self.q = q\n",
    "    def __repr__(self):\n",
    "        return \"Rational({},{})\".format(self.p,self.q)"
   ]
  },
  {
   "cell_type": "code",
   "execution_count": 19,
   "metadata": {},
   "outputs": [
    {
     "data": {
      "text/plain": [
       "'Rational(21,0)'"
      ]
     },
     "execution_count": 19,
     "metadata": {},
     "output_type": "execute_result"
    }
   ],
   "source": [
    "a = Rational(21,0)\n",
    "a.__repr__()"
   ]
  },
  {
   "cell_type": "code",
   "execution_count": 20,
   "metadata": {},
   "outputs": [],
   "source": [
    "# what if 10/20 and 1/2?\n",
    "# find the greatest common divisor in representation\n",
    "def gcd(a,b):\n",
    "    if b == 0:\n",
    "        return a\n",
    "    else:\n",
    "        return gcd(b, a%b) #recursion"
   ]
  },
  {
   "cell_type": "code",
   "execution_count": 28,
   "metadata": {},
   "outputs": [],
   "source": [
    "class Rational:\n",
    "    def __init__(self,p,q=1):\n",
    "        g = gcd(p,q)\n",
    "        self.p = p // g\n",
    "        self.q = q // g\n",
    "    def __repr__(self):\n",
    "        return \"Rational({},{})\".format(self.p,self.q)\n",
    "    def __str__(self):\n",
    "        return \"{}//{}\".format(self.p,self.q)\n",
    "    "
   ]
  },
  {
   "cell_type": "code",
   "execution_count": 30,
   "metadata": {},
   "outputs": [
    {
     "name": "stdout",
     "output_type": "stream",
     "text": [
      "7//3\n"
     ]
    }
   ],
   "source": [
    "Rational(21,9)\n",
    "print(Rational(21,9))"
   ]
  },
  {
   "cell_type": "code",
   "execution_count": 31,
   "metadata": {},
   "outputs": [],
   "source": [
    "# operator overloading: adding 2 reationals\n",
    "class Rational:\n",
    "    def __init__(self,p,q=1):\n",
    "        g = gcd(p,q)\n",
    "        self.p = p // g\n",
    "        self.q = q // g\n",
    "    def __add__(self, other):\n",
    "        p = self.p * other.q + other.p * self.q\n",
    "        q = self.q * other.q\n",
    "        return Rational(p,q)   \n",
    "    def __repr__(self):\n",
    "        return \"Rational({},{})\".format(self.p,self.q)\n",
    "    def __str__(self):\n",
    "        return \"{}//{}\".format(self.p,self.q)\n"
   ]
  },
  {
   "cell_type": "code",
   "execution_count": 32,
   "metadata": {},
   "outputs": [
    {
     "data": {
      "text/plain": [
       "Rational(5,4)"
      ]
     },
     "execution_count": 32,
     "metadata": {},
     "output_type": "execute_result"
    }
   ],
   "source": [
    "Rational(1,2) + Rational(3,4)"
   ]
  },
  {
   "cell_type": "code",
   "execution_count": 33,
   "metadata": {},
   "outputs": [],
   "source": []
  },
  {
   "cell_type": "code",
   "execution_count": null,
   "metadata": {},
   "outputs": [],
   "source": []
  }
 ],
 "metadata": {
  "kernelspec": {
   "display_name": "Python 2",
   "language": "python",
   "name": "python2"
  },
  "language_info": {
   "codemirror_mode": {
    "name": "ipython",
    "version": 2
   },
   "file_extension": ".py",
   "mimetype": "text/x-python",
   "name": "python",
   "nbconvert_exporter": "python",
   "pygments_lexer": "ipython2",
   "version": "2.7.6"
  }
 },
 "nbformat": 4,
 "nbformat_minor": 0
}
