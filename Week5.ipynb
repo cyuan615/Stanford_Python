{
 "cells": [
  {
   "cell_type": "markdown",
   "metadata": {
    "collapsed": true
   },
   "source": [
    "**1. List** *Lists are mutable*"
   ]
  },
  {
   "cell_type": "code",
   "execution_count": 1,
   "metadata": {},
   "outputs": [
    {
     "name": "stdout",
     "output_type": "stream",
     "text": [
      "[1, 2, 3, 4, 5, 6]\n"
     ]
    }
   ],
   "source": [
    "firstlist = [1,2,3]\n",
    "secondlist = [4,5,6]\n",
    "concatList = firstlist + secondlist\n",
    "print(concatList)"
   ]
  },
  {
   "cell_type": "code",
   "execution_count": 52,
   "metadata": {},
   "outputs": [
    {
     "name": "stdout",
     "output_type": "stream",
     "text": [
      "[100, 2, 3]\n[100, 2, 3]\n"
     ]
    }
   ],
   "source": [
    "\n",
    "# copy a list\n",
    "a = [1,2,3]\n",
    "b = a\n",
    "b[0] = 100\n",
    "print(a)\n",
    "print(b)"
   ]
  },
  {
   "cell_type": "code",
   "execution_count": 13,
   "metadata": {},
   "outputs": [
    {
     "name": "stdout",
     "output_type": "stream",
     "text": [
      "[100, 2, 3]\n[100, 2, 3]\n[1, 2, 3]\n4448629768\n4448629768\n4409403016\n"
     ]
    }
   ],
   "source": [
    "a = [1,2,3]\n",
    "b = a\n",
    "c = list(a) # c is a copy of a\n",
    "b[0] = 100\n",
    "print(a)\n",
    "print(b)\n",
    "print(c)\n",
    "print(id(a)) #ID number of object in computer memory\n",
    "print(id(b)) \n",
    "print(id(c)) "
   ]
  },
  {
   "cell_type": "markdown",
   "metadata": {},
   "source": [
    "*list operation*"
   ]
  },
  {
   "cell_type": "code",
   "execution_count": 26,
   "metadata": {},
   "outputs": [],
   "source": [
    "#help(list)"
   ]
  },
  {
   "cell_type": "markdown",
   "metadata": {},
   "source": [
    "*Iterate in List*"
   ]
  },
  {
   "cell_type": "code",
   "execution_count": 15,
   "metadata": {},
   "outputs": [
    {
     "name": "stdout",
     "output_type": "stream",
     "text": [
      "0, 1, 2, 3, 4, 5, 6, 7, 8, 9, "
     ]
    }
   ],
   "source": [
    "for i in range(10):\n",
    "    print(i,end= ', ')"
   ]
  },
  {
   "cell_type": "code",
   "execution_count": 19,
   "metadata": {},
   "outputs": [
    {
     "name": "stdout",
     "output_type": "stream",
     "text": [
      "0)  1\n1)  2\n2)  4\n3)  another\n"
     ]
    }
   ],
   "source": [
    "mylist = [1,2,4,'another']\n",
    "for index,elem in enumerate(mylist): # iterate in both index and elements at the same time\n",
    "    print('{0})  ' '{1}'.format(index,elem))"
   ]
  },
  {
   "cell_type": "markdown",
   "metadata": {},
   "source": [
    "*map*"
   ]
  },
  {
   "cell_type": "code",
   "execution_count": 21,
   "metadata": {},
   "outputs": [
    {
     "name": "stdout",
     "output_type": "stream",
     "text": [
      "l2:  [0, 1, 8, 27, 64, 125, 216]\n"
     ]
    }
   ],
   "source": [
    "l1 = [0,1,2,3,4,5,6]\n",
    "l2 = map(lambda x: x*x*x, l1) \n",
    "# apply a function to all elements of a list using map and return result in a new object\n",
    "print('l2: ', list(l2))"
   ]
  },
  {
   "cell_type": "markdown",
   "metadata": {},
   "source": [
    "*filter*"
   ]
  },
  {
   "cell_type": "code",
   "execution_count": 22,
   "metadata": {},
   "outputs": [
    {
     "name": "stdout",
     "output_type": "stream",
     "text": [
      "l2:  [0, 2, 4, 6]\n"
     ]
    }
   ],
   "source": [
    "l1 = [0,1,2,3,4,5,6]\n",
    "# filter elements of a list using filter\n",
    "l2 = filter(lambda x: x % 2 == 0, l1)\n",
    "print('l2: ', list(l2))"
   ]
  },
  {
   "cell_type": "markdown",
   "metadata": {},
   "source": [
    "*List comprehensions*"
   ]
  },
  {
   "cell_type": "code",
   "execution_count": 25,
   "metadata": {},
   "outputs": [
    {
     "name": "stdout",
     "output_type": "stream",
     "text": [
      "l2:  [0, 1, 4, 9, 16, 25, 36]\n"
     ]
    }
   ],
   "source": [
    "l1 = [0,1,2,3,4,5,6]\n",
    "l2 = [x**2 for x in l1]\n",
    "print('l2: ', l2)"
   ]
  },
  {
   "cell_type": "markdown",
   "metadata": {},
   "source": [
    "**2. Tuples**"
   ]
  },
  {
   "cell_type": "code",
   "execution_count": null,
   "metadata": {},
   "outputs": [],
   "source": [
    "import sys\n",
    "max = sys.maxsize\n",
    "print(max)"
   ]
  },
  {
   "cell_type": "code",
   "execution_count": 15,
   "metadata": {},
   "outputs": [
    {
     "name": "stdout",
     "output_type": "stream",
     "text": [
      "string\n43\n99\n"
     ]
    }
   ],
   "source": [
    "my_tuple = ('string',43,99)\n",
    "mytuple1,mytuple2,mytuple3 = my_tuple\n",
    "print(mytuple1)\n",
    "print(mytuple2)\n",
    "print(mytuple3)"
   ]
  },
  {
   "cell_type": "code",
   "execution_count": 18,
   "metadata": {},
   "outputs": [
    {
     "name": "stdout",
     "output_type": "stream",
     "text": [
      "(1, 2, 3)\n1 2 3\n"
     ]
    }
   ],
   "source": [
    "def simple_function():\n",
    "    return 1,2,3\n",
    "print(simple_function())\n",
    "\n",
    "a,b,c = simple_function()\n",
    "print(a,b,c)"
   ]
  },
  {
   "cell_type": "markdown",
   "metadata": {},
   "source": [
    "**3. dictionary**"
   ]
  },
  {
   "cell_type": "code",
   "execution_count": 21,
   "metadata": {},
   "outputs": [
    {
     "name": "stdout",
     "output_type": "stream",
     "text": [
      "<class 'dict'>\n<class 'dict'>\n"
     ]
    }
   ],
   "source": [
    "d = {}\n",
    "c = dict()\n",
    "print(type(d))\n",
    "print(type(c))"
   ]
  },
  {
   "cell_type": "code",
   "execution_count": 35,
   "metadata": {},
   "outputs": [
    {
     "data": {
      "text/plain": [
       "False"
      ]
     },
     "execution_count": 35,
     "metadata": {},
     "output_type": "execute_result"
    }
   ],
   "source": [
    "d = {1:7,2:8,3:9,4:10}\n",
    "12 in d.keys()\n"
   ]
  },
  {
   "cell_type": "code",
   "execution_count": 48,
   "metadata": {},
   "outputs": [
    {
     "name": "stdout",
     "output_type": "stream",
     "text": [
      "1\n2\n3\n4\n7\n8\n9\n10\n1 : 7\n2 : 8\n3 : 9\n4 : 10\n(1, 7)\n(2, 8)\n(3, 9)\n(4, 10)\n"
     ]
    }
   ],
   "source": [
    "for key in d.keys():\n",
    "    print(key)\n",
    "for value in d.values():\n",
    "    print(value)\n",
    "for key,value in d.items():\n",
    "    print(key,\":\",value)\n",
    "for item in d.items():\n",
    "    print(item) # returns a tuple of values"
   ]
  },
  {
   "cell_type": "code",
   "execution_count": 50,
   "metadata": {},
   "outputs": [
    {
     "name": "stdout",
     "output_type": "stream",
     "text": [
      "dict_items([(1, 7), (2, 8), (3, 9), (4, 10)])\n<class 'dict_items'>\n"
     ]
    }
   ],
   "source": [
    "print(d.items())\n",
    "print(type(d.items()))"
   ]
  },
  {
   "cell_type": "code",
   "execution_count": 51,
   "metadata": {},
   "outputs": [
    {
     "name": "stdout",
     "output_type": "stream",
     "text": [
      "1\n2\n3\n4\n"
     ]
    }
   ],
   "source": [
    "# default dictionary looping: keys\n",
    "for x in d:\n",
    "    print(x)  "
   ]
  },
  {
   "cell_type": "code",
   "execution_count": 55,
   "metadata": {},
   "outputs": [
    {
     "data": {
      "text/plain": [
       "[{'age': 15, 'name': 'chang'}, {'age': 12, 'name': 'cindy'}]"
      ]
     },
     "execution_count": 55,
     "metadata": {},
     "output_type": "execute_result"
    }
   ],
   "source": [
    "# sort dictionary:\n",
    "sibling = [{'name':'cindy','age':12},{'name':'chang','age':15}]\n",
    "sorted(sibling,key = lambda d:d['age'],reverse=True)"
   ]
  },
  {
   "cell_type": "markdown",
   "metadata": {},
   "source": [
    "**3. Set**"
   ]
  },
  {
   "cell_type": "code",
   "execution_count": 58,
   "metadata": {},
   "outputs": [
    {
     "name": "stdout",
     "output_type": "stream",
     "text": [
      "{'pear', 'orange', 'apple', 'banana'}\n"
     ]
    }
   ],
   "source": [
    "basket = ['apple','orange','pear','banana','apple','orange']\n",
    "fruit = set(basket)\n",
    "print(fruit)"
   ]
  },
  {
   "cell_type": "code",
   "execution_count": 61,
   "metadata": {},
   "outputs": [
    {
     "name": "stdout",
     "output_type": "stream",
     "text": [
      "True\n{1, 2, 3, 4, 5, 6, 7, 8, 9}\n"
     ]
    }
   ],
   "source": [
    "# check existance of fruit\n",
    "print('apple' in fruit)\n",
    "\n",
    "# set operation\n",
    "# 1.union\n",
    "ihave = set([1,2,3,4,5,6,7])\n",
    "youhave = {7,8,9}\n",
    "wehave = ihave.union(youhave)\n",
    "print(wehave)\n"
   ]
  },
  {
   "cell_type": "code",
   "execution_count": 64,
   "metadata": {},
   "outputs": [
    {
     "name": "stdout",
     "output_type": "stream",
     "text": [
      "{7}\n"
     ]
    }
   ],
   "source": [
    "# 2.intersection\n",
    "ihave = set([1,2,3,4,5,6,7])\n",
    "youhave = {7,8,9}\n",
    "webothhave = ihave.intersection(youhave)\n",
    "print(webothhave)"
   ]
  },
  {
   "cell_type": "code",
   "execution_count": 74,
   "metadata": {},
   "outputs": [
    {
     "name": "stdout",
     "output_type": "stream",
     "text": [
      "{'one': 1, 'two': 2}\n{'one': 1, 'two': 2, 2: 3}\n"
     ]
    }
   ],
   "source": [
    "a = {'one':1,'two':2}\n",
    "print(a)\n",
    "a[2] = 3\n",
    "print(a)"
   ]
  },
  {
   "cell_type": "code",
   "execution_count": 73,
   "metadata": {},
   "outputs": [
    {
     "name": "stdout",
     "output_type": "stream",
     "text": [
      "['a', 'c']\n"
     ]
    }
   ],
   "source": [
    "airdates = {\"a\":\"b\",\"c\":\"d\"}\n",
    "print(list(airdates.keys()))"
   ]
  },
  {
   "cell_type": "code",
   "execution_count": null,
   "metadata": {},
   "outputs": [],
   "source": []
  }
 ],
 "metadata": {
  "kernelspec": {
   "display_name": "Python 2",
   "language": "python",
   "name": "python2"
  },
  "language_info": {
   "codemirror_mode": {
    "name": "ipython",
    "version": 2
   },
   "file_extension": ".py",
   "mimetype": "text/x-python",
   "name": "python",
   "nbconvert_exporter": "python",
   "pygments_lexer": "ipython2",
   "version": "2.7.6"
  }
 },
 "nbformat": 4,
 "nbformat_minor": 0
}
